{
 "cells": [
  {
   "cell_type": "code",
   "execution_count": 3,
   "id": "49bf3a4f-602b-4a1b-bd47-50c57a1985d5",
   "metadata": {},
   "outputs": [
    {
     "data": {
      "text/plain": [
       "hello go"
      ]
     },
     "execution_count": 3,
     "metadata": {},
     "output_type": "execute_result"
    }
   ],
   "source": [
    "a := \"hello \"\n",
    "b := \"go\"\n",
    "\n",
    "a + b"
   ]
  },
  {
   "cell_type": "code",
   "execution_count": null,
   "id": "0cea2555-c37d-47e0-88ff-404ca5a64b4b",
   "metadata": {},
   "outputs": [],
   "source": []
  },
  {
   "cell_type": "code",
   "execution_count": null,
   "id": "11cee07e-e5af-4a69-bc8b-9d033923762e",
   "metadata": {},
   "outputs": [],
   "source": []
  }
 ],
 "metadata": {
  "kernelspec": {
   "display_name": "Example Go Kernel",
   "language": "go",
   "name": "example_go"
  },
  "language_info": {
   "codemirror_mode": "",
   "file_extension": ".go",
   "mimetype": "",
   "name": "go",
   "nbconvert_exporter": "",
   "pygments_lexer": "",
   "version": "go1.17.12"
  }
 },
 "nbformat": 4,
 "nbformat_minor": 5
}
