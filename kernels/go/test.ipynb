{
 "cells": [
  {
   "cell_type": "code",
   "execution_count": 1,
   "id": "c22eafa4-49a2-4ccc-8ea1-7df9058026c7",
   "metadata": {},
   "outputs": [
    {
     "name": "stdout",
     "output_type": "stream",
     "text": [
      "hello"
     ]
    }
   ],
   "source": [
    "import \"fmt\"\n",
    "fmt.Println(\"hello go\")"
   ]
  },
  {
   "cell_type": "code",
   "execution_count": null,
   "id": "883bc962-5183-468c-867d-a00ee6d7c755",
   "metadata": {},
   "outputs": [],
   "source": []
  }
 ],
 "metadata": {
  "kernelspec": {
   "display_name": "Example Go Kernel",
   "language": "go",
   "name": "example_go"
  },
  "language_info": {
   "file_extension": ".go",
   "mimetype": "text/plain",
   "name": "go"
  }
 },
 "nbformat": 4,
 "nbformat_minor": 5
}
