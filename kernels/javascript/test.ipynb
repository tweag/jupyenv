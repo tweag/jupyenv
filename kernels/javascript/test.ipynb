{
 "cells": [
  {
   "cell_type": "code",
   "execution_count": 1,
   "id": "888ed7fd-c3dc-4c31-a1aa-00377d61cacb",
   "metadata": {},
   "outputs": [
    {
     "data": {
      "text/plain": [
       "'hello javascript'"
      ]
     },
     "execution_count": 1,
     "metadata": {},
     "output_type": "execute_result"
    }
   ],
   "source": [
    "const hello = (s) => `hello ${s}`;\n",
    "\n",
    "hello(\"javascript\")"
   ]
  },
  {
   "cell_type": "code",
   "execution_count": null,
   "id": "24de758f-0978-4ec7-b794-81d24c988afb",
   "metadata": {},
   "outputs": [],
   "source": []
  }
 ],
 "metadata": {
  "kernelspec": {
   "display_name": "Example Javascript Kernel",
   "language": "javascript",
   "name": "example_javascript"
  },
  "language_info": {
   "file_extension": ".js",
   "mimetype": "application/javascript",
   "name": "javascript",
   "version": "14.20.0"
  }
 },
 "nbformat": 4,
 "nbformat_minor": 5
}
