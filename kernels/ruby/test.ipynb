{
 "cells": [
  {
   "cell_type": "code",
   "execution_count": null,
   "id": "9910fe0d-3244-48d3-bfad-6520af291dc2",
   "metadata": {},
   "outputs": [],
   "source": [
    "a = \"hello\"\n",
    "b = \"ruby\"\n",
    "a + \" \" + b"
   ]
  },
  {
   "cell_type": "code",
   "execution_count": null,
   "id": "e6a3e474-5052-4766-baec-fcca46dbe212",
   "metadata": {},
   "outputs": [],
   "source": []
  }
 ],
 "metadata": {
  "kernelspec": {
   "display_name": "Example Ruby Kernel",
   "language": "ruby",
   "name": "example_ruby"
  },
  "language_info": {
   "name": ""
  }
 },
 "nbformat": 4,
 "nbformat_minor": 5
}
