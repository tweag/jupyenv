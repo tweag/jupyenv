{
 "cells": [
  {
   "cell_type": "code",
   "execution_count": 2,
   "id": "888ed7fd-c3dc-4c31-a1aa-00377d61cacb",
   "metadata": {},
   "outputs": [
    {
     "name": "stdout",
     "output_type": "stream",
     "text": [
      "let h = \"hello\"; in \"${h} nix\"\n",
      "\u001b[35;1m\"hello nix\"\u001b[0m\n",
      "\n"
     ]
    }
   ],
   "source": [
    "let h = \"hello\"; in \"${h} nix\""
   ]
  },
  {
   "cell_type": "code",
   "execution_count": null,
   "id": "24de758f-0978-4ec7-b794-81d24c988afb",
   "metadata": {},
   "outputs": [],
   "source": []
  }
 ],
 "metadata": {
  "kernelspec": {
   "display_name": "Example Nix Kernel",
   "language": "Nix",
   "name": "example_nix"
  },
  "language_info": {
   "file_extension": ".nix",
   "mimetype": "text/nix",
   "name": "nix"
  }
 },
 "nbformat": 4,
 "nbformat_minor": 5
}
