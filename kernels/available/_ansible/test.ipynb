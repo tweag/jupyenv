{
 "cells": [
  {
   "cell_type": "code",
   "execution_count": 1,
   "id": "a34567dd-4100-46c4-a430-32748a191567",
   "metadata": {},
   "outputs": [
    {
     "name": "stdout",
     "output_type": "stream",
     "text": [
      "\n",
      "\u001b[0;31mERROR! Unexpected Exception, this is probably a bug: No module named 'zmq'\u001b[0m{'counter': 4,\n",
      " 'created': '2022-09-02T10:44:38.834343',\n",
      " 'end_line': 4,\n",
      " 'event': 'verbose',\n",
      " 'event_data': {'play': 'Hello World',\n",
      "                'play_pattern': 'all',\n",
      "                'play_uuid': '61f71a66-1560-1c40-5949-000000000006',\n",
      "                'playbook': 'playbook.yml',\n",
      "                'playbook_uuid': '1bcd4056-9ac7-42e4-b60d-ae7c1a30d3b8',\n",
      "                'uuid': '8ab03f10-d7ca-4452-9be1-1e93cd16654e'},\n",
      " 'parent_uuid': '61f71a66-1560-1c40-5949-000000000006',\n",
      " 'pid': 572398,\n",
      " 'runner_ident': '515183ed-6d48-4848-8f48-32ec475f72fb',\n",
      " 'start_line': 3,\n",
      " 'stdout': 'to see the full traceback, use -vvv',\n",
      " 'uuid': '8ab03f10-d7ca-4452-9be1-1e93cd16654e'}\n"
     ]
    }
   ],
   "source": [
    "#play\n",
    "name: Hello World\n",
    "hosts: all\n",
    "gather_facts: false"
   ]
  },
  {
   "cell_type": "code",
   "execution_count": null,
   "id": "41652afe-44e3-4cba-865e-e652db014af9",
   "metadata": {},
   "outputs": [],
   "source": []
  }
 ],
 "metadata": {
  "kernelspec": {
   "display_name": "Example Ansible Kernel",
   "language": "ansible",
   "name": "example_ansible"
  },
  "language_info": {
   "codemirror_mode": "yaml",
   "file_extension": ".yml",
   "mimetype": "text/yaml",
   "name": "ansible"
  }
 },
 "nbformat": 4,
 "nbformat_minor": 5
}
