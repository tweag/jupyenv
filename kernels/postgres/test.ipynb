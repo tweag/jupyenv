{
 "cells": [
  {
   "cell_type": "code",
   "execution_count": 2,
   "id": "e4b3dd36-8d8a-4330-8654-c2a6d71dfba0",
   "metadata": {},
   "outputs": [
    {
     "name": "stderr",
     "output_type": "stream",
     "text": [
      "Error: Unable to connect to a database at \"\".\n",
      "  Perhaps you need to set a connection string with\n",
      "  -- connection: <connection string here>"
     ]
    }
   ],
   "source": [
    "select \"hello postgres\""
   ]
  },
  {
   "cell_type": "code",
   "execution_count": null,
   "id": "88213f3d-37d4-4790-9486-7c3ff045f966",
   "metadata": {},
   "outputs": [],
   "source": []
  }
 ],
 "metadata": {
  "kernelspec": {
   "display_name": "Example PostgreSQL Kernel",
   "language": "postgres",
   "name": "example_postgres"
  },
  "language_info": {
   "codemirror_mode": "sql",
   "file_extension": ".sql",
   "mimetype": "text/x-postgresql",
   "name": "PostgreSQL"
  }
 },
 "nbformat": 4,
 "nbformat_minor": 5
}
