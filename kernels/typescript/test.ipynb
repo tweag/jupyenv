{
 "cells": [
  {
   "cell_type": "code",
   "execution_count": 3,
   "id": "f026a89d-07e2-47bb-b5c3-e167e7163627",
   "metadata": {},
   "outputs": [
    {
     "name": "stdout",
     "output_type": "stream",
     "text": [
      "Hello tslab!\n"
     ]
    }
   ],
   "source": [
    "interface Hello {\n",
    "    getMessage(): string;\n",
    "}\n",
    "\n",
    "class HelloImpl implements Hello {\n",
    "    private name: string;\n",
    "\n",
    "    constructor(name: string) {\n",
    "        this.name = name;\n",
    "    }\n",
    "    \n",
    "    getMessage(): string {\n",
    "        return `Hello ${this.name}!`;\n",
    "    }\n",
    "}\n",
    "\n",
    "function printMessage(h: Hello) {\n",
    "    console.log(h.getMessage());\n",
    "}\n",
    "\n",
    "printMessage(new HelloImpl('tslab'));"
   ]
  },
  {
   "cell_type": "code",
   "execution_count": null,
   "id": "c0217d48-0d47-49cf-a401-9ad9755647f1",
   "metadata": {},
   "outputs": [],
   "source": []
  }
 ],
 "metadata": {
  "kernelspec": {
   "display_name": "Example Typescript Kernel",
   "language": "typescript",
   "name": "example_typescript"
  },
  "language_info": {
   "codemirror_mode": {
    "mode": "typescript",
    "name": "javascript",
    "typescript": true
   },
   "file_extension": ".ts",
   "mimetype": "text/typescript",
   "name": "typescript",
   "version": "3.7.2"
  }
 },
 "nbformat": 4,
 "nbformat_minor": 5
}
