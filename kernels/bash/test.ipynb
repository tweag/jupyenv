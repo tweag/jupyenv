{
 "cells": [
  {
   "cell_type": "code",
   "execution_count": 5,
   "id": "008047c5-3248-40ac-a384-b21bc1ece242",
   "metadata": {},
   "outputs": [
    {
     "name": "stdout",
     "output_type": "stream",
     "text": [
      "foo2004h\u001b[?2004l\n",
      "\u001b[?2004h"
     ]
    },
    {
     "ename": "",
     "evalue": "1",
     "output_type": "error",
     "traceback": []
    }
   ],
   "source": [
    "export FOO=\"foo\"\n",
    "echo $FOO"
   ]
  },
  {
   "cell_type": "code",
   "execution_count": null,
   "id": "cc91937c-3ad9-4c10-a278-13678eff4f3d",
   "metadata": {},
   "outputs": [],
   "source": []
  }
 ],
 "metadata": {
  "kernelspec": {
   "display_name": "Example Bash Kernel",
   "language": "bash",
   "name": "example_bash"
  },
  "language_info": {
   "codemirror_mode": "shell",
   "file_extension": ".sh",
   "mimetype": "text/x-sh",
   "name": "bash"
  }
 },
 "nbformat": 4,
 "nbformat_minor": 5
}
