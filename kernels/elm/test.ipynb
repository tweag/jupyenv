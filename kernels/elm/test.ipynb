{
 "cells": [
  {
   "cell_type": "code",
   "execution_count": 1,
   "id": "c22eafa4-49a2-4ccc-8ea1-7df9058026c7",
   "metadata": {},
   "outputs": [
    {
     "name": "stdout",
     "output_type": "stream",
     "text": [
      "hello"
     ]
    }
   ],
   "source": [
    "#include <iostream>\n",
    "std::cout << \"hello cpp\" << std:endl;"
   ]
  },
  {
   "cell_type": "code",
   "execution_count": null,
   "id": "883bc962-5183-468c-867d-a00ee6d7c755",
   "metadata": {},
   "outputs": [],
   "source": []
  }
 ],
 "metadata": {
  "kernelspec": {
   "display_name": "Example C++ Kernel",
   "language": "cpp",
   "name": "example_cpp"
  },
  "language_info": {
   "file_extension": ".cpp",
   "mimetype": "text/plain",
   "name": "cpp"
  }
 },
 "nbformat": 4,
 "nbformat_minor": 5
}
