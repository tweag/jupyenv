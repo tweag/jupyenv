{
 "cells": [
  {
   "cell_type": "code",
   "execution_count": 1,
   "id": "49bf3a4f-602b-4a1b-bd47-50c57a1985d5",
   "metadata": {},
   "outputs": [
    {
     "name": "stdout",
     "output_type": "stream",
     "text": [
      "hello scala\n"
     ]
    }
   ],
   "source": [
    "println(\"hello scala\")"
   ]
  },
  {
   "cell_type": "code",
   "execution_count": null,
   "id": "444374eb-2e7c-4d6d-ae2e-0aac0c927d68",
   "metadata": {},
   "outputs": [],
   "source": []
  }
 ],
 "metadata": {
  "kernelspec": {
   "display_name": "Example Scala Kernel",
   "language": "scala",
   "name": "example_scala"
  },
  "language_info": {
   "codemirror_mode": "text/x-scala",
   "file_extension": ".sc",
   "mimetype": "text/x-scala",
   "name": "scala",
   "nbconvert_exporter": "script",
   "version": "2.13.8"
  }
 },
 "nbformat": 4,
 "nbformat_minor": 5
}
