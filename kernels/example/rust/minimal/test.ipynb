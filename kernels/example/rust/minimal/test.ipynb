{
 "cells": [
  {
   "cell_type": "code",
   "execution_count": 11,
   "id": "d13cad64-62c0-4b87-b8ef-0242658baa0f",
   "metadata": {},
   "outputs": [
    {
     "data": {
      "text/plain": [
       "\"a\""
      ]
     },
     "execution_count": 11,
     "metadata": {},
     "output_type": "execute_result"
    }
   ],
   "source": [
    "use std::collections::HashMap;\n",
    "\n",
    "let m = HashMap::from([\n",
    "    (1, \"a\"),\n",
    "    (2, \"b\"),\n",
    "]);\n",
    "m[&1]"
   ]
  },
  {
   "cell_type": "code",
   "execution_count": null,
   "id": "16f8a525-ab66-407d-b978-78af1ee27a4d",
   "metadata": {},
   "outputs": [],
   "source": []
  }
 ],
 "metadata": {
  "kernelspec": {
   "display_name": "Example Rust Kernel",
   "language": "rust",
   "name": "example_rust"
  },
  "language_info": {
   "codemirror_mode": "rust",
   "file_extension": ".rs",
   "mimetype": "text/rust",
   "name": "Rust",
   "pygment_lexer": "rust",
   "version": ""
  }
 },
 "nbformat": 4,
 "nbformat_minor": 5
}
