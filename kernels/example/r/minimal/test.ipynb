{
 "cells": [
  {
   "cell_type": "code",
   "execution_count": 4,
   "id": "f191f29d-d049-4bd5-bfc3-06efdde324ef",
   "metadata": {},
   "outputs": [
    {
     "data": {
      "text/html": [
       "'hello R'"
      ],
      "text/latex": [
       "'hello R'"
      ],
      "text/markdown": [
       "'hello R'"
      ],
      "text/plain": [
       "[1] \"hello R\""
      ]
     },
     "metadata": {},
     "output_type": "display_data"
    }
   ],
   "source": [
    "paste(\"hello\", \"R\")"
   ]
  },
  {
   "cell_type": "code",
   "execution_count": null,
   "id": "46e41031-9c9a-4b3d-87d0-c4b87ab3e6b0",
   "metadata": {},
   "outputs": [],
   "source": []
  }
 ],
 "metadata": {
  "kernelspec": {
   "display_name": "Example R Kernel",
   "language": "r",
   "name": "example_r"
  },
  "language_info": {
   "codemirror_mode": "r",
   "file_extension": ".r",
   "mimetype": "text/x-r-source",
   "name": "R",
   "pygments_lexer": "r",
   "version": "4.2.1"
  }
 },
 "nbformat": 4,
 "nbformat_minor": 5
}
