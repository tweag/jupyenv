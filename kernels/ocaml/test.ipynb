{
 "cells": [
  {
   "cell_type": "code",
   "execution_count": null,
   "id": "dc34b376-465b-48b8-aaa4-cbc098e38edf",
   "metadata": {},
   "outputs": [],
   "source": [
    "\"hello\" ^ \" \" ^ \"ocaml\";;"
   ]
  },
  {
   "cell_type": "code",
   "execution_count": null,
   "id": "fc52ff28-5eeb-4263-b90a-265f587b28f0",
   "metadata": {},
   "outputs": [],
   "source": []
  },
  {
   "cell_type": "code",
   "execution_count": null,
   "id": "ccead62a-1b15-4566-8817-158bf093305c",
   "metadata": {},
   "outputs": [],
   "source": []
  }
 ],
 "metadata": {
  "kernelspec": {
   "display_name": "Example OCaml Kernel",
   "language": "ocaml",
   "name": "example_ocaml"
  },
  "language_info": {
   "name": ""
  }
 },
 "nbformat": 4,
 "nbformat_minor": 5
}
