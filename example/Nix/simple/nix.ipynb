{
 "cells": [
  {
   "cell_type": "code",
   "execution_count": 1,
   "metadata": {},
   "outputs": [
    {
     "name": "stdout",
     "output_type": "stream",
     "text": [
      "builtins.currentSystem\n",
      "\u001b[33m\"x86_64-linux\"\u001b[0m\n",
      "\n"
     ]
    }
   ],
   "source": [
    "builtins.currentSystem"
   ]
  },
  {
   "cell_type": "code",
   "execution_count": 2,
   "metadata": {},
   "outputs": [
    {
     "name": "stdout",
     "output_type": "stream",
     "text": [
      "d = derivation { name = \"myname\"; builder = \"mybuilder\"; system = \"mysystem\"; }\n",
      "\n"
     ]
    }
   ],
   "source": [
    "d = derivation { name = \"myname\"; builder = \"mybuilder\"; system = \"mysystem\"; }"
   ]
  },
  {
   "cell_type": "code",
   "execution_count": 3,
   "metadata": {},
   "outputs": [
    {
     "name": "stdout",
     "output_type": "stream",
     "text": [
      "d\n",
      "«derivation /nix/store/z3hhlxbckx4g3n9sw91nnvlkjvyw754p-myname.drv»\n",
      "\n"
     ]
    }
   ],
   "source": [
    "d"
   ]
  },
  {
   "cell_type": "code",
   "execution_count": null,
   "metadata": {},
   "outputs": [],
   "source": []
  }
 ],
 "metadata": {
  "kernelspec": {
   "display_name": "Nix - nix-kernel",
   "language": "Nix",
   "name": "inix_nix-kernel"
  },
  "language_info": {
   "file_extension": ".nix",
   "mimetype": "text/nix",
   "name": "nix"
  }
 },
 "nbformat": 4,
 "nbformat_minor": 4
}
