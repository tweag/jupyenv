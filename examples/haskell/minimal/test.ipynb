{
 "cells": [
  {
   "cell_type": "code",
   "execution_count": null,
   "id": "888ed7fd-c3dc-4c31-a1aa-00377d61cacb",
   "metadata": {},
   "outputs": [],
   "source": [
    "let a = \"hello\"\n",
    "    b = \"haskell\"\n",
    "  in a ++ \" \" ++b"
   ]
  },
  {
   "cell_type": "code",
   "execution_count": null,
   "id": "24de758f-0978-4ec7-b794-81d24c988afb",
   "metadata": {},
   "outputs": [],
   "source": []
  }
 ],
 "metadata": {
  "kernelspec": {
   "display_name": "Example Haskell Kernel",
   "language": "haskell",
   "name": "example_haskell"
  },
  "language_info": {
   "codemirror_mode": "ihaskell",
   "file_extension": ".hs",
   "mimetype": "text/x-haskell",
   "name": "haskell",
   "pygments_lexer": "Haskell",
   "version": "9.0.2"
  }
 },
 "nbformat": 4,
 "nbformat_minor": 5
}
