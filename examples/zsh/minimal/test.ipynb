{
 "cells": [
  {
   "cell_type": "code",
   "execution_count": 2,
   "id": "008047c5-3248-40ac-a384-b21bc1ece242",
   "metadata": {},
   "outputs": [
    {
     "name": "stdout",
     "output_type": "stream",
     "text": [
      "hi zsh\n"
     ]
    }
   ],
   "source": [
    "export FOO=\"hi zsh\"\n",
    "echo $FOO"
   ]
  },
  {
   "cell_type": "code",
   "execution_count": null,
   "id": "cc91937c-3ad9-4c10-a278-13678eff4f3d",
   "metadata": {},
   "outputs": [],
   "source": []
  }
 ],
 "metadata": {
  "kernelspec": {
   "display_name": "Example Zsh Kernel",
   "language": "zsh",
   "name": "example_zsh"
  },
  "language_info": {
   "codemirror_mode": "shell",
   "file_extension": ".zsh",
   "mimetype": "text/x-zsh",
   "name": "zsh",
   "pygments_lexer": "shell",
   "version": "5.7.1"
  }
 },
 "nbformat": 4,
 "nbformat_minor": 5
}
