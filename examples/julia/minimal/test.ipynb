{
 "cells": [
  {
   "cell_type": "code",
   "execution_count": null,
   "id": "0fc63132-f8df-4577-bc75-171217c822ec",
   "metadata": {},
   "outputs": [],
   "source": [
    "println(\"hello julia\")"
   ]
  },
  {
   "cell_type": "code",
   "execution_count": null,
   "id": "b64bf205-fe0c-4ea0-bd92-728ffb13ee4f",
   "metadata": {},
   "outputs": [],
   "source": []
  }
 ],
 "metadata": {
  "kernelspec": {
   "display_name": "Example Julia Kernel",
   "language": "julia",
   "name": "example_julia"
  },
  "language_info": {
   "name": ""
  }
 },
 "nbformat": 4,
 "nbformat_minor": 5
}
